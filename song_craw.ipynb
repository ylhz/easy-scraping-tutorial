{
  "nbformat": 4,
  "nbformat_minor": 0,
  "metadata": {
    "colab": {
      "name": "song_craw",
      "provenance": [],
      "collapsed_sections": [],
      "toc_visible": true,
      "include_colab_link": true
    },
    "kernelspec": {
      "name": "python3",
      "display_name": "Python 3"
    }
  },
  "cells": [
    {
      "cell_type": "markdown",
      "metadata": {
        "id": "view-in-github",
        "colab_type": "text"
      },
      "source": [
        "<a href=\"https://colab.research.google.com/github/ylhz/easy-scraping-tutorial/blob/master/song_craw.ipynb\" target=\"_parent\"><img src=\"https://colab.research.google.com/assets/colab-badge.svg\" alt=\"Open In Colab\"/></a>"
      ]
    },
    {
      "cell_type": "markdown",
      "metadata": {
        "id": "IHuKOYyJi97P",
        "colab_type": "text"
      },
      "source": [
        "# 前期环境配置"
      ]
    },
    {
      "cell_type": "markdown",
      "metadata": {
        "id": "BnauhEoltPnN",
        "colab_type": "text"
      },
      "source": [
        "## 1、安装chromedriver驱动"
      ]
    },
    {
      "cell_type": "code",
      "metadata": {
        "id": "Fl4EXH1nhNeC",
        "colab_type": "code",
        "outputId": "b12dd55f-797b-4d62-b359-43392eec010d",
        "colab": {
          "base_uri": "https://localhost:8080/",
          "height": 302
        }
      },
      "source": [
        "!apt-get update\n",
        "!apt install chromium-chromedriver"
      ],
      "execution_count": 0,
      "outputs": [
        {
          "output_type": "stream",
          "text": [
            "\r0% [Working]\r            \rIgn:1 https://developer.download.nvidia.com/compute/cuda/repos/ubuntu1804/x86_64  InRelease\n",
            "\r0% [Waiting for headers] [Waiting for headers] [Connected to cloud.r-project.or\r                                                                               \rHit:2 https://cloud.r-project.org/bin/linux/ubuntu bionic-cran35/ InRelease\n",
            "\r0% [Waiting for headers] [Waiting for headers] [Waiting for headers] [Waiting f\r0% [2 InRelease gpgv 3,626 B] [Waiting for headers] [Waiting for headers] [Wait\r                                                                               \rHit:3 http://ppa.launchpad.net/graphics-drivers/ppa/ubuntu bionic InRelease\n",
            "\r0% [2 InRelease gpgv 3,626 B] [Waiting for headers] [Waiting for headers] [Wait\r                                                                               \rHit:4 http://security.ubuntu.com/ubuntu bionic-security InRelease\n",
            "\r0% [2 InRelease gpgv 3,626 B] [Waiting for headers] [Waiting for headers] [Conn\r                                                                               \rIgn:5 https://developer.download.nvidia.com/compute/machine-learning/repos/ubuntu1804/x86_64  InRelease\n",
            "\r0% [2 InRelease gpgv 3,626 B] [Waiting for headers] [Connecting to ppa.launchpa\r                                                                               \rHit:6 https://developer.download.nvidia.com/compute/cuda/repos/ubuntu1804/x86_64  Release\n",
            "\r0% [2 InRelease gpgv 3,626 B] [Waiting for headers] [Connecting to ppa.launchpa\r                                                                               \rHit:7 http://archive.ubuntu.com/ubuntu bionic InRelease\n",
            "\r0% [2 InRelease gpgv 3,626 B] [Waiting for headers] [Waiting for headers] [Conn\r                                                                               \rHit:8 https://developer.download.nvidia.com/compute/machine-learning/repos/ubuntu1804/x86_64  Release\n",
            "\r0% [2 InRelease gpgv 3,626 B] [Waiting for headers] [Connecting to ppa.launchpa\r                                                                               \rHit:9 http://archive.ubuntu.com/ubuntu bionic-updates InRelease\n",
            "\r                                                                               \r0% [2 InRelease gpgv 3,626 B] [Waiting for headers] [Waiting for headers]\r                                                                         \rHit:10 http://ppa.launchpad.net/marutter/c2d4u3.5/ubuntu bionic InRelease\n",
            "Hit:11 http://archive.ubuntu.com/ubuntu bionic-backports InRelease\n",
            "Reading package lists... Done\n",
            "Reading package lists... Done\n",
            "Building dependency tree       \n",
            "Reading state information... Done\n",
            "chromium-chromedriver is already the newest version (80.0.3987.87-0ubuntu0.18.04.1).\n",
            "0 upgraded, 0 newly installed, 0 to remove and 38 not upgraded.\n"
          ],
          "name": "stdout"
        }
      ]
    },
    {
      "cell_type": "markdown",
      "metadata": {
        "id": "RwEWDq13iKgA",
        "colab_type": "text"
      },
      "source": [
        "## 2、安装eleenium包\n",
        "\n"
      ]
    },
    {
      "cell_type": "code",
      "metadata": {
        "id": "uYWLLZG0thxF",
        "colab_type": "code",
        "outputId": "97b4f592-ffa6-4ab4-b790-883f54c91a78",
        "colab": {
          "base_uri": "https://localhost:8080/",
          "height": 50
        }
      },
      "source": [
        "!pip install selenium"
      ],
      "execution_count": 0,
      "outputs": [
        {
          "output_type": "stream",
          "text": [
            "Requirement already satisfied: selenium in /usr/local/lib/python3.6/dist-packages (3.141.0)\n",
            "Requirement already satisfied: urllib3 in /usr/local/lib/python3.6/dist-packages (from selenium) (1.24.3)\n"
          ],
          "name": "stdout"
        }
      ]
    },
    {
      "cell_type": "markdown",
      "metadata": {
        "id": "kejeeM6XiP9u",
        "colab_type": "text"
      },
      "source": [
        "## 3、设置环境变量"
      ]
    },
    {
      "cell_type": "code",
      "metadata": {
        "id": "gSqDuUq8tkEd",
        "colab_type": "code",
        "outputId": "8425e97e-8f68-43d4-c6f0-743c7e1f5da5",
        "colab": {
          "base_uri": "https://localhost:8080/",
          "height": 34
        }
      },
      "source": [
        "!cp /usr/lib/chromium-browser/chromedriver /usr/bin"
      ],
      "execution_count": 0,
      "outputs": [
        {
          "output_type": "stream",
          "text": [
            "cp: '/usr/lib/chromium-browser/chromedriver' and '/usr/bin/chromedriver' are the same file\n"
          ],
          "name": "stdout"
        }
      ]
    },
    {
      "cell_type": "code",
      "metadata": {
        "id": "0TRzYpmJtmBq",
        "colab_type": "code",
        "colab": {}
      },
      "source": [
        "import sys\n",
        "sys.path.insert(0,'/usr/lib/chromium-browser/chromedriver')"
      ],
      "execution_count": 0,
      "outputs": []
    },
    {
      "cell_type": "markdown",
      "metadata": {
        "id": "tBVO8xEnidtq",
        "colab_type": "text"
      },
      "source": [
        "## 4、装载谷歌云端硬盘"
      ]
    },
    {
      "cell_type": "code",
      "metadata": {
        "id": "t5ANlhy6fAYv",
        "colab_type": "code",
        "outputId": "0abfc5fa-cca2-4b9e-a22f-9deada78f7fe",
        "colab": {
          "base_uri": "https://localhost:8080/",
          "height": 34
        }
      },
      "source": [
        "from google.colab import drive\n",
        "drive.mount('/content/drive')"
      ],
      "execution_count": 0,
      "outputs": [
        {
          "output_type": "stream",
          "text": [
            "Drive already mounted at /content/drive; to attempt to forcibly remount, call drive.mount(\"/content/drive\", force_remount=True).\n"
          ],
          "name": "stdout"
        }
      ]
    },
    {
      "cell_type": "markdown",
      "metadata": {
        "id": "HJ_D0Y4aime7",
        "colab_type": "text"
      },
      "source": [
        "# 代码正式开始"
      ]
    },
    {
      "cell_type": "markdown",
      "metadata": {
        "id": "B2ppsV9nj7-C",
        "colab_type": "text"
      },
      "source": [
        "## 1、声明"
      ]
    },
    {
      "cell_type": "code",
      "metadata": {
        "id": "8SA-MMpXmIOw",
        "colab_type": "code",
        "colab": {}
      },
      "source": [
        "import pandas as pd\n",
        "import numpy as np\n",
        "from bs4 import BeautifulSoup\n",
        "import re\n",
        "from selenium import webdriver\n",
        "from selenium.webdriver.chrome.options import Options\n",
        "import time"
      ],
      "execution_count": 0,
      "outputs": []
    },
    {
      "cell_type": "markdown",
      "metadata": {
        "id": "7fIjR06siuBu",
        "colab_type": "text"
      },
      "source": [
        "## 2、加载chrome驱动\n",
        "\n",
        "\n",
        "> 打开浏览器服务\n",
        "> 这里隐藏了浏览器，若要显示浏览器爬取过程把该代码块替换成\n",
        "> ```python\n",
        "driver = webdriver.Chrome('chromedriver')\n",
        "```\n",
        "这样会显示浏览过程"
      ]
    },
    {
      "cell_type": "code",
      "metadata": {
        "id": "ml9Q6TEqtoaP",
        "colab_type": "code",
        "colab": {}
      },
      "source": [
        "\n",
        "chrome_options = webdriver.ChromeOptions()\n",
        "chrome_options.add_argument('--headless')\n",
        "chrome_options.add_argument('--no-sandbox')\n",
        "chrome_options.add_argument('--disable-dev-shm-usage')\n",
        "driver = webdriver.Chrome('chromedriver',options=chrome_options)"
      ],
      "execution_count": 0,
      "outputs": []
    },
    {
      "cell_type": "markdown",
      "metadata": {
        "id": "k8Qx2W-zrrGA",
        "colab_type": "text"
      },
      "source": [
        "\n",
        "*   计时器\n",
        "\n"
      ]
    },
    {
      "cell_type": "code",
      "metadata": {
        "id": "NBg3d-mXmh8m",
        "colab_type": "code",
        "colab": {}
      },
      "source": [
        "# 计时器\n",
        "time_start = time.time()\n",
        "\n",
        " #模拟浏览器\n",
        "# options = Options()\n",
        "# options.add_argument(\"--headless\")\n",
        "# driver = webdriver.Chrome(\"../usr/bin/chromedriver\",options=options)\n",
        "#driver = webdriver.Chrome(\"C:/Program Files (x86)/Google/Chrome/Application/chromedriver.exe\")\n",
        "# driver = webdriver.Chrome('chromedriver')\n"
      ],
      "execution_count": 0,
      "outputs": []
    },
    {
      "cell_type": "markdown",
      "metadata": {
        "id": "2gPGD4NYo1jy",
        "colab_type": "text"
      },
      "source": [
        "## 3、全局变量"
      ]
    },
    {
      "cell_type": "code",
      "metadata": {
        "id": "gJ8WLEHRmqJM",
        "colab_type": "code",
        "colab": {}
      },
      "source": [
        "# 全局变量，控制信息 \n",
        "\n",
        "# 保存获取的数据\n",
        "global songlist    \n",
        "songlist = pd.DataFrame(columns=['songname','singer','华语','欧美','日语','韩语','粤语',\n",
        "                                '流行','摇滚','民谣','电子','舞曲','说唱','轻音乐','爵士','乡村','R&B/Soul','古典','民族','英伦','金属','朋克','蓝调','雷鬼','世界音乐','拉丁','New Age','古风','后摇','Bossa Nova',\n",
        "                                '清晨','夜晚','学习','工作','午休','下午茶','地铁','驾车','运动','旅行','散步','酒吧',\n",
        "                                '怀旧','清新','浪漫','伤感','治愈','放松','孤独','感动','兴奋','快乐','安静','思念',\n",
        "                                '影视原声','ACG','儿童','校园','游戏','70后','80后','90后','网络歌曲','KTV','经典','翻唱','吉他','钢琴','器乐','榜单','00后'])\n",
        "songlist = songlist.set_index(['songname','singer'])\n",
        " # 迭代控制器\n",
        "global count   \n",
        "count = 0\n",
        "# 递归查询的最大深度\n",
        "global COUNT_MAX\n",
        "COUNT_MAX = 4\n",
        "# 已经导入信息的歌单数目\n",
        "global list_count    \n",
        "list_count = 0\n",
        "# 已经遍历的歌单,存储ID号\n",
        "global fav    \n",
        "fav = []\n",
        "# 用于拼接完整地址\n",
        "base_url = \"https://music.163.com/#\"\n",
        "# 网页起始页\n",
        "start_url = \"https://music.163.com/#/playlist?id=54345191\"  #ysm\n",
        "#start_url = \"https://music.163.com/playlist?id=2440796550\"\n",
        "#start_url = \"https://music.163.com/#/playlist?id=3206513038\""
      ],
      "execution_count": 0,
      "outputs": []
    },
    {
      "cell_type": "markdown",
      "metadata": {
        "id": "MTk5s_DGqwNd",
        "colab_type": "text"
      },
      "source": [
        "## 4、自定义函数\n",
        "\n",
        "\n",
        "\n"
      ]
    },
    {
      "cell_type": "markdown",
      "metadata": {
        "id": "fL93Ac48tYWb",
        "colab_type": "text"
      },
      "source": [
        "### 4.1、获取框架\n"
      ]
    },
    {
      "cell_type": "code",
      "metadata": {
        "id": "GneRHCvumxmb",
        "colab_type": "code",
        "colab": {}
      },
      "source": [
        "# 自定义方法\n",
        "def frame(url):\n",
        "    \"\"\"\n",
        "\n",
        "    进入网址url的框架（id=\"iframe\"），并获取源码后用BesutifulSoup解析\n",
        "\n",
        "    Args:\n",
        "        url: str类型的网页完整地址\n",
        "\n",
        "    Returns:\n",
        "        soup: BeautifulSoup类型的解析完成后的框架内容\n",
        "    \"\"\"\n",
        "    #print(\"正在访问：\"+url)\n",
        "    driver.get(url)\n",
        "    driver.switch_to.frame(\"g_iframe\")\n",
        "    #print (driver.page_source[780:1070])\n",
        "    time.sleep(1.5)    # 打开后延迟，保证抓取\n",
        "    html_frame = driver.page_source\n",
        "    #print(\"html_frame:\\n\")\n",
        "    #print (html_frame[780:1070])\n",
        "    soup = BeautifulSoup(html_frame,'lxml')\n",
        "    return soup"
      ],
      "execution_count": 0,
      "outputs": []
    },
    {
      "cell_type": "markdown",
      "metadata": {
        "id": "LtHis9FQkX6E",
        "colab_type": "text"
      },
      "source": [
        "\n",
        "### 4.2、获取歌单信息"
      ]
    },
    {
      "cell_type": "code",
      "metadata": {
        "id": "1y-iUdH4m3fa",
        "colab_type": "code",
        "colab": {}
      },
      "source": [
        "\n",
        "def song_list(soup):\n",
        "    \"\"\"获取歌单信息并保存\n",
        "\n",
        "    将歌单信息（歌名，歌手，标签）保存到全局变量songlist（type:DataFrame）中，并随即写入文件songlist.xlsx，并返回歌曲链接\n",
        "\n",
        "    Args:\n",
        "        soup: (BeautifulSoup)歌单iframe内容\n",
        "\n",
        "    Returns:\n",
        "        song_urls: (list)歌单内的所有歌曲完整地址\n",
        "    \"\"\"\n",
        "    song_list = soup.find(\"table\",\"m-table\")\n",
        "\n",
        "    time.sleep(0.3)\n",
        "    # 获取歌名\n",
        "    song_nameb = song_list.find_all(\"b\")\n",
        "    song_name = []\n",
        "    for i in song_nameb:\n",
        "        song_name.append(i.get(\"title\"))    # 获取歌名\n",
        "\n",
        "    for i in range(len(song_name)):\n",
        "        song_name[i] = song_name[i].replace(\"\\xa0\", ' ')    # 去除特殊空格符\n",
        "\n",
        "\n",
        "    # 获取歌曲链接\n",
        "    song_a = song_list.find_all(\"a\",{\"href\":re.compile(\"/song\\?id=\")})\n",
        "    song_a = str(song_a)\n",
        "    song_urls = re.findall(r'<a href=\"(.*?)\">',song_a)  # r防止字符转义，保持原有意思\n",
        "    for i in range(len(song_urls)):    # 拼接完整url\n",
        "        song_urls[i] = base_url + song_urls[i]\n",
        "    \n",
        "    \n",
        "    # 获取歌手\n",
        "    song_list = str(song_list)\n",
        "    singers = re.findall(r'data-res-author=\"(.*?)\"',song_list) # 获取歌手\n",
        "    \n",
        "\n",
        "    # 获取歌单标签\n",
        "    tag_a = soup.find_all(\"a\",\"u-tag\")\n",
        "    tag_a = str(tag_a)\n",
        "    song_tag = re.findall(r'&amp;order=hot\"><i>(.*?)</i>',tag_a) # 歌单标签\n",
        "\n",
        "\n",
        "    # 将信息保存到临时变量songlist_tmp \n",
        "    songlist_tmp = pd.DataFrame(columns=['songname','singer','华语','欧美','日语','韩语','粤语',\n",
        "                                 '流行','摇滚','民谣','电子','舞曲','说唱','轻音乐','爵士','乡村','R&B/Soul','古典','民族','英伦','金属','朋克','蓝调','雷鬼','世界音乐','拉丁','New Age','古风','后摇','Bossa Nova',\n",
        "                                 '清晨','夜晚','学习','工作','午休','下午茶','地铁','驾车','运动','旅行','散步','酒吧',\n",
        "                                 '怀旧','清新','浪漫','伤感','治愈','放松','孤独','感动','兴奋','快乐','安静','思念',\n",
        "                                 '影视原声','ACG','儿童','校园','游戏','70后','80后','90后','网络歌曲','KTV','经典','翻唱','吉他','钢琴','器乐','榜单','00后'])\n",
        "    songlist_tmp.songname = song_name\n",
        "    songlist_tmp.singer = singers\n",
        "    for j in song_tag:\n",
        "        songlist_tmp.loc[:,j] = 1    # 标签计数\n",
        "    songlist_tmp = songlist_tmp.set_index(['songname','singer'])\n",
        "\n",
        "\n",
        "    # 存入全局变量并保存到文件\n",
        "    global songlist\n",
        "    songlist = songlist.add(songlist_tmp,fill_value=0)\n",
        "    songlist.to_excel('/content/drive/My Drive/songlist2.xlsx')\n",
        "    print(\"    添加完成！！\")\n",
        "# #     songlist = songlist.merge(songlist_tmp)\n",
        "#     songlist.songname = song_name\n",
        "#     songlist.singer = singers\n",
        "#     print(pd.merge(songlist,songlist_tmp,how='left'))\n",
        "\n",
        "    return song_urls"
      ],
      "execution_count": 0,
      "outputs": []
    },
    {
      "cell_type": "markdown",
      "metadata": {
        "id": "qkm-8zdjtfKS",
        "colab_type": "text"
      },
      "source": [
        "### 4.3、获取包含该歌的歌单"
      ]
    },
    {
      "cell_type": "code",
      "metadata": {
        "id": "oWYfs2TDm6K4",
        "colab_type": "code",
        "colab": {}
      },
      "source": [
        "\n",
        "def favlist(song_url):\n",
        "    \"\"\"获取包含该歌曲的歌单地址\n",
        "\n",
        "    Args: \n",
        "        song_url: （str）歌曲的播放页面的地址\n",
        "\n",
        "    Returns: \n",
        "        fav_url: (list)包含传入歌曲的歌单地址列表\n",
        "    \"\"\"\n",
        "    print(\"favlist\")\n",
        "    soup = frame(song_url)\n",
        "    fav_ul = soup.find(\"ul\",\"m-rctlist\")\n",
        "    fav_a = fav_ul.find_all(\"a\",{\"class\":\"sname\"})\n",
        "    fav_url = []\n",
        "    fav_url_tmp = []\n",
        "    global fav   # 用于保存已经遍历的歌单\n",
        "    for i in fav_a:\n",
        "        fav_href = i.get(\"href\")\n",
        "        if fav_href not in fav:        # 判断是否已经遍历该歌单\n",
        "            fav.append(fav_href)    \n",
        "            fav_url_tmp.append(fav_href)\n",
        "    for i in range(len(fav_url_tmp)):\n",
        "        fav_url.append( base_url + fav_url_tmp[i] )\n",
        "    return fav_url"
      ],
      "execution_count": 0,
      "outputs": []
    },
    {
      "cell_type": "markdown",
      "metadata": {
        "id": "Fx2gAgJhtm_b",
        "colab_type": "text"
      },
      "source": [
        "### 4.4、递归爬取"
      ]
    },
    {
      "cell_type": "code",
      "metadata": {
        "id": "5lfhRCRZm8m2",
        "colab_type": "code",
        "colab": {}
      },
      "source": [
        "\n",
        "def getinfo(song_list_url):\n",
        "    \"\"\"递归爬取歌单\n",
        "\n",
        "    筛选合格的歌单，并爬取信息，最后寻找新的歌单\n",
        "\n",
        "    Args:\n",
        "        song_list_url: (str)歌单地址\n",
        "    \"\"\"\n",
        "    global count\n",
        "    print(\"    当前歌单深度：\" + str(count))    # 判断当前迭代次数\n",
        "    if count < COUNT_MAX:    # 限制递归层数\n",
        "        songlist_soup = frame(song_list_url)\n",
        "        #print(\"二、getinfo成功解析歌单\"+str(len(fav))+\"：\"+song_list_url)\n",
        "#         fav_count = int(favcount(soup))\n",
        "        fav_count = songlist_soup.find(\"a\",\"u-btni-fav\").get(\"data-count\")    # 获取收藏数目\n",
        "\n",
        "        print(\"    fav_count:\"+ fav_count)\n",
        "\n",
        "        if int(fav_count) >= 5000 or count == 0:    # 筛选可信度高的歌单\n",
        "\n",
        "            #print(\"三、将当前歌单信息(\"+song_list_url+\")加入标签库\")\n",
        "\n",
        "            song_urls = song_list(songlist_soup)    # 更新歌曲标签库\n",
        "            global list_count\n",
        "            list_count +=1\n",
        "\n",
        "            print(\"    加入完成，已加入歌单数目：\" + str(list_count))\n",
        "\n",
        "            count +=1\n",
        "            if count < COUNT_MAX:\n",
        "                #for i in range(50):           # 遍历歌单的歌曲\n",
        "                for i in range(len(song_urls)):           # 遍历歌单的歌曲\n",
        "                    fav_url = favlist(song_urls[i])     # 寻找新的歌单\n",
        "\n",
        "                    print(\"当前歌单已经遍历：\"+str(i)+\"   剩余：\"+str(len(song_urls)-i))\n",
        "\n",
        "                    for j in fav_url:\n",
        "                        #count += 1\n",
        "                        #print(j)\n",
        "                        \n",
        "                        getinfo(j)\n",
        "                        count -= 1"
      ],
      "execution_count": 0,
      "outputs": []
    },
    {
      "cell_type": "markdown",
      "metadata": {
        "id": "4N4w8IXjt-Mm",
        "colab_type": "text"
      },
      "source": [
        "### 4.5、main()"
      ]
    },
    {
      "cell_type": "code",
      "metadata": {
        "id": "0J3YFRMOm-pK",
        "colab_type": "code",
        "colab": {}
      },
      "source": [
        "\n",
        "def main():\n",
        "\n",
        "    print(\"一、进入start_url(默认最爱歌单)\")\n",
        "    getinfo(start_url)\n",
        "\n",
        "    #songlist.to_excel('songlist.xlsx')\n",
        "    # 计时器\n",
        "    time_end = time.time()\n",
        "    time_c = time_end - time_start\n",
        "    print(\"time cost\",time_c,'s')\n",
        "    print(\"完成\")"
      ],
      "execution_count": 0,
      "outputs": []
    },
    {
      "cell_type": "markdown",
      "metadata": {
        "id": "8vizEy8Vs84Z",
        "colab_type": "text"
      },
      "source": [
        "## 5、程序入口"
      ]
    },
    {
      "cell_type": "code",
      "metadata": {
        "id": "8vomjbx2wVgF",
        "colab_type": "code",
        "outputId": "9cb30526-f4de-480b-de84-f8cdb939399b",
        "colab": {
          "base_uri": "https://localhost:8080/",
          "height": 842
        }
      },
      "source": [
        "if __name__ == '__main__':\n",
        "    main()"
      ],
      "execution_count": 0,
      "outputs": [
        {
          "output_type": "stream",
          "text": [
            "一、进入start_url(默认最爱歌单)\n",
            "    当前歌单深度：0\n",
            "    fav_count:0\n",
            "    添加完成！！\n",
            "    加入完成，已加入歌单数目：1\n",
            "favlist\n",
            "当前歌单已经遍历：0   剩余：690\n",
            "    当前歌单深度：1\n",
            "    fav_count:110630\n",
            "    添加完成！！\n",
            "    加入完成，已加入歌单数目：2\n",
            "favlist\n",
            "当前歌单已经遍历：0   剩余：250\n",
            "    当前歌单深度：2\n",
            "    fav_count:1159774\n",
            "    添加完成！！\n",
            "    加入完成，已加入歌单数目：3\n",
            "favlist\n",
            "当前歌单已经遍历：0   剩余：200\n",
            "    当前歌单深度：3\n",
            "    fav_count:569342\n",
            "    添加完成！！\n",
            "    加入完成，已加入歌单数目：4\n",
            "    当前歌单深度：3\n",
            "    fav_count:514502\n",
            "    添加完成！！\n",
            "    加入完成，已加入歌单数目：5\n",
            "favlist\n",
            "当前歌单已经遍历：1   剩余：199\n",
            "    当前歌单深度：3\n",
            "    fav_count:700205\n"
          ],
          "name": "stdout"
        },
        {
          "output_type": "error",
          "ename": "AttributeError",
          "evalue": "ignored",
          "traceback": [
            "\u001b[0;31m---------------------------------------------------------------------------\u001b[0m",
            "\u001b[0;31mAttributeError\u001b[0m                            Traceback (most recent call last)",
            "\u001b[0;32m<ipython-input-15-c7bc734e5e35>\u001b[0m in \u001b[0;36m<module>\u001b[0;34m()\u001b[0m\n\u001b[1;32m      1\u001b[0m \u001b[0;32mif\u001b[0m \u001b[0m__name__\u001b[0m \u001b[0;34m==\u001b[0m \u001b[0;34m'__main__'\u001b[0m\u001b[0;34m:\u001b[0m\u001b[0;34m\u001b[0m\u001b[0;34m\u001b[0m\u001b[0m\n\u001b[0;32m----> 2\u001b[0;31m     \u001b[0mmain\u001b[0m\u001b[0;34m(\u001b[0m\u001b[0;34m)\u001b[0m\u001b[0;34m\u001b[0m\u001b[0;34m\u001b[0m\u001b[0m\n\u001b[0m",
            "\u001b[0;32m<ipython-input-14-8de05c5514a7>\u001b[0m in \u001b[0;36mmain\u001b[0;34m()\u001b[0m\n\u001b[1;32m      3\u001b[0m \u001b[0;34m\u001b[0m\u001b[0m\n\u001b[1;32m      4\u001b[0m     \u001b[0mprint\u001b[0m\u001b[0;34m(\u001b[0m\u001b[0;34m\"一、进入start_url(默认最爱歌单)\"\u001b[0m\u001b[0;34m)\u001b[0m\u001b[0;34m\u001b[0m\u001b[0;34m\u001b[0m\u001b[0m\n\u001b[0;32m----> 5\u001b[0;31m     \u001b[0mgetinfo\u001b[0m\u001b[0;34m(\u001b[0m\u001b[0mstart_url\u001b[0m\u001b[0;34m)\u001b[0m\u001b[0;34m\u001b[0m\u001b[0;34m\u001b[0m\u001b[0m\n\u001b[0m\u001b[1;32m      6\u001b[0m \u001b[0;34m\u001b[0m\u001b[0m\n\u001b[1;32m      7\u001b[0m     \u001b[0;31m#songlist.to_excel('songlist.xlsx')\u001b[0m\u001b[0;34m\u001b[0m\u001b[0;34m\u001b[0m\u001b[0;34m\u001b[0m\u001b[0m\n",
            "\u001b[0;32m<ipython-input-13-f96eccc93882>\u001b[0m in \u001b[0;36mgetinfo\u001b[0;34m(song_list_url)\u001b[0m\n\u001b[1;32m     40\u001b[0m                         \u001b[0;31m#print(j)\u001b[0m\u001b[0;34m\u001b[0m\u001b[0;34m\u001b[0m\u001b[0;34m\u001b[0m\u001b[0m\n\u001b[1;32m     41\u001b[0m \u001b[0;34m\u001b[0m\u001b[0m\n\u001b[0;32m---> 42\u001b[0;31m                         \u001b[0mgetinfo\u001b[0m\u001b[0;34m(\u001b[0m\u001b[0mj\u001b[0m\u001b[0;34m)\u001b[0m\u001b[0;34m\u001b[0m\u001b[0;34m\u001b[0m\u001b[0m\n\u001b[0m\u001b[1;32m     43\u001b[0m                         \u001b[0mcount\u001b[0m \u001b[0;34m-=\u001b[0m \u001b[0;36m1\u001b[0m\u001b[0;34m\u001b[0m\u001b[0;34m\u001b[0m\u001b[0m\n",
            "\u001b[0;32m<ipython-input-13-f96eccc93882>\u001b[0m in \u001b[0;36mgetinfo\u001b[0;34m(song_list_url)\u001b[0m\n\u001b[1;32m     40\u001b[0m                         \u001b[0;31m#print(j)\u001b[0m\u001b[0;34m\u001b[0m\u001b[0;34m\u001b[0m\u001b[0;34m\u001b[0m\u001b[0m\n\u001b[1;32m     41\u001b[0m \u001b[0;34m\u001b[0m\u001b[0m\n\u001b[0;32m---> 42\u001b[0;31m                         \u001b[0mgetinfo\u001b[0m\u001b[0;34m(\u001b[0m\u001b[0mj\u001b[0m\u001b[0;34m)\u001b[0m\u001b[0;34m\u001b[0m\u001b[0;34m\u001b[0m\u001b[0m\n\u001b[0m\u001b[1;32m     43\u001b[0m                         \u001b[0mcount\u001b[0m \u001b[0;34m-=\u001b[0m \u001b[0;36m1\u001b[0m\u001b[0;34m\u001b[0m\u001b[0;34m\u001b[0m\u001b[0m\n",
            "\u001b[0;32m<ipython-input-13-f96eccc93882>\u001b[0m in \u001b[0;36mgetinfo\u001b[0;34m(song_list_url)\u001b[0m\n\u001b[1;32m     40\u001b[0m                         \u001b[0;31m#print(j)\u001b[0m\u001b[0;34m\u001b[0m\u001b[0;34m\u001b[0m\u001b[0;34m\u001b[0m\u001b[0m\n\u001b[1;32m     41\u001b[0m \u001b[0;34m\u001b[0m\u001b[0m\n\u001b[0;32m---> 42\u001b[0;31m                         \u001b[0mgetinfo\u001b[0m\u001b[0;34m(\u001b[0m\u001b[0mj\u001b[0m\u001b[0;34m)\u001b[0m\u001b[0;34m\u001b[0m\u001b[0;34m\u001b[0m\u001b[0m\n\u001b[0m\u001b[1;32m     43\u001b[0m                         \u001b[0mcount\u001b[0m \u001b[0;34m-=\u001b[0m \u001b[0;36m1\u001b[0m\u001b[0;34m\u001b[0m\u001b[0;34m\u001b[0m\u001b[0m\n",
            "\u001b[0;32m<ipython-input-13-f96eccc93882>\u001b[0m in \u001b[0;36mgetinfo\u001b[0;34m(song_list_url)\u001b[0m\n\u001b[1;32m     22\u001b[0m             \u001b[0;31m#print(\"三、将当前歌单信息(\"+song_list_url+\")加入标签库\")\u001b[0m\u001b[0;34m\u001b[0m\u001b[0;34m\u001b[0m\u001b[0;34m\u001b[0m\u001b[0m\n\u001b[1;32m     23\u001b[0m \u001b[0;34m\u001b[0m\u001b[0m\n\u001b[0;32m---> 24\u001b[0;31m             \u001b[0msong_urls\u001b[0m \u001b[0;34m=\u001b[0m \u001b[0msong_list\u001b[0m\u001b[0;34m(\u001b[0m\u001b[0msonglist_soup\u001b[0m\u001b[0;34m)\u001b[0m    \u001b[0;31m# 更新歌曲标签库\u001b[0m\u001b[0;34m\u001b[0m\u001b[0;34m\u001b[0m\u001b[0m\n\u001b[0m\u001b[1;32m     25\u001b[0m             \u001b[0;32mglobal\u001b[0m \u001b[0mlist_count\u001b[0m\u001b[0;34m\u001b[0m\u001b[0;34m\u001b[0m\u001b[0m\n\u001b[1;32m     26\u001b[0m             \u001b[0mlist_count\u001b[0m \u001b[0;34m+=\u001b[0m\u001b[0;36m1\u001b[0m\u001b[0;34m\u001b[0m\u001b[0;34m\u001b[0m\u001b[0m\n",
            "\u001b[0;32m<ipython-input-11-eb6ac74f80ff>\u001b[0m in \u001b[0;36msong_list\u001b[0;34m(soup)\u001b[0m\n\u001b[1;32m     15\u001b[0m     \u001b[0mtime\u001b[0m\u001b[0;34m.\u001b[0m\u001b[0msleep\u001b[0m\u001b[0;34m(\u001b[0m\u001b[0;36m0.3\u001b[0m\u001b[0;34m)\u001b[0m\u001b[0;34m\u001b[0m\u001b[0;34m\u001b[0m\u001b[0m\n\u001b[1;32m     16\u001b[0m     \u001b[0;31m# 获取歌名\u001b[0m\u001b[0;34m\u001b[0m\u001b[0;34m\u001b[0m\u001b[0;34m\u001b[0m\u001b[0m\n\u001b[0;32m---> 17\u001b[0;31m     \u001b[0msong_nameb\u001b[0m \u001b[0;34m=\u001b[0m \u001b[0msong_list\u001b[0m\u001b[0;34m.\u001b[0m\u001b[0mfind_all\u001b[0m\u001b[0;34m(\u001b[0m\u001b[0;34m\"b\"\u001b[0m\u001b[0;34m)\u001b[0m\u001b[0;34m\u001b[0m\u001b[0;34m\u001b[0m\u001b[0m\n\u001b[0m\u001b[1;32m     18\u001b[0m     \u001b[0msong_name\u001b[0m \u001b[0;34m=\u001b[0m \u001b[0;34m[\u001b[0m\u001b[0;34m]\u001b[0m\u001b[0;34m\u001b[0m\u001b[0;34m\u001b[0m\u001b[0m\n\u001b[1;32m     19\u001b[0m     \u001b[0;32mfor\u001b[0m \u001b[0mi\u001b[0m \u001b[0;32min\u001b[0m \u001b[0msong_nameb\u001b[0m\u001b[0;34m:\u001b[0m\u001b[0;34m\u001b[0m\u001b[0;34m\u001b[0m\u001b[0m\n",
            "\u001b[0;31mAttributeError\u001b[0m: 'NoneType' object has no attribute 'find_all'"
          ]
        }
      ]
    },
    {
      "cell_type": "markdown",
      "metadata": {
        "id": "1gOt1k60uRkZ",
        "colab_type": "text"
      },
      "source": [
        ""
      ]
    },
    {
      "cell_type": "markdown",
      "metadata": {
        "id": "_snAOtwEx6y9",
        "colab_type": "text"
      },
      "source": [
        "## 6、保存相关变量到云盘文件\n",
        ">将关键变量全部设置为保存到文件，并且也从文件读取初始值，就可以实现续接上次程序执行结果</br>\n",
        ">每加入一个歌单就记录一次时间，可以看时间递增状况"
      ]
    },
    {
      "cell_type": "code",
      "metadata": {
        "id": "oYFcO_Hv6Ofa",
        "colab_type": "code",
        "colab": {}
      },
      "source": [
        "mydict = {\n",
        "        'favlist': fav\n",
        "    }"
      ],
      "execution_count": 0,
      "outputs": []
    },
    {
      "cell_type": "code",
      "metadata": {
        "id": "Y2AXndYE8xnH",
        "colab_type": "code",
        "colab": {}
      },
      "source": [
        "import json\n",
        "try:\n",
        "    with open('/content/drive/My Drive/fav2.json', 'a', encoding='utf-8') as fs:\n",
        "        json.dump(mydict, fs)\n",
        "except IOError as e:\n",
        "    print(e)\n",
        "print('保存数据完成!')"
      ],
      "execution_count": 0,
      "outputs": []
    },
    {
      "cell_type": "markdown",
      "metadata": {
        "id": "wxHhsOhfEZ-_",
        "colab_type": "text"
      },
      "source": [
        "# 测试中\n"
      ]
    },
    {
      "cell_type": "markdown",
      "metadata": {
        "id": "JHUw3lJO3HXu",
        "colab_type": "text"
      },
      "source": [
        "**大改进**\n",
        "\n",
        "\n",
        "1.   re和beautifulsoup全部替换为lxml，提升效率\n",
        "2.   存储思路改变：将DataFrame不合并，首先获取一定数目的歌曲信息，然后用加入的形式（覆盖的反面）写入文件，并在一定周期后合并文件中的信息（将同一首歌的信息合并），这样减小处理dataframe的压力，提高效率\n",
        "3.   关键变量初始化时用文件初始化，最后也保存到文件\n",
        "\n",
        "\n"
      ]
    },
    {
      "cell_type": "markdown",
      "metadata": {
        "id": "EczgVAqwcgsw",
        "colab_type": "text"
      },
      "source": [
        "## 尝试多进程分布式爬取"
      ]
    },
    {
      "cell_type": "code",
      "metadata": {
        "id": "ZJUaqv3vEZLh",
        "colab_type": "code",
        "colab": {}
      },
      "source": [
        "# unseen = set([base_url,])\n",
        "# seen = set()\n",
        "\n",
        "# pool = mp.Pool(4)\n",
        "# count, t1=1, time.time()\n",
        "# while len(unseen) != 0:\n",
        "#   # 可以加入限制\n",
        "#   craw_jobs = [pool.apply_async(craw,args=(url,)) for url in unseen]\n",
        "#   htmls = [frame(url) for url in unseen]\n",
        "#   results = [j]"
      ],
      "execution_count": 0,
      "outputs": []
    }
  ]
}